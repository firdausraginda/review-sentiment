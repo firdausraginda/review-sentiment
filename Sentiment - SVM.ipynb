{
 "cells": [
  {
   "cell_type": "code",
   "execution_count": 85,
   "metadata": {},
   "outputs": [],
   "source": [
    "path = './zomato.csv'"
   ]
  },
  {
   "cell_type": "code",
   "execution_count": 157,
   "metadata": {},
   "outputs": [],
   "source": [
    "import csv\n",
    "import os\n",
    "import glob\n",
    "import numpy as np\n",
    "import math\n",
    "#scikit learn\n",
    "from sklearn.pipeline import Pipeline\n",
    "from sklearn.metrics import accuracy_score\n",
    "from sklearn.model_selection import GridSearchCV\n",
    "\n",
    "#stemmer\n",
    "from Sastrawi.Stemmer.StemmerFactory import StemmerFactory\n",
    "from Sastrawi.StopWordRemover.StopWordRemoverFactory import StopWordRemoverFactory"
   ]
  },
  {
   "cell_type": "code",
   "execution_count": 143,
   "metadata": {},
   "outputs": [],
   "source": [
    "def cleaning(sentence):\n",
    "    sentence = sentence.replace('\\ufeff','')\n",
    "    sentence = sentence.replace('\\n',' ')\n",
    "    sentence = sentence.replace('\\r',' ')\n",
    "    sentence = sentence.replace('\\n\\n',' ')\n",
    "    sentence = sentence.replace('\\r\\r',' ')\n",
    "    sentence = sentence.replace('.',' ')\n",
    "    sentence = sentence.replace(',',' ')\n",
    "    sentence = sentence.replace('\"',' ')\n",
    "    sentence = sentence.replace('!',' ')\n",
    "    sentence = sentence.replace('?',' ')\n",
    "    sentence = sentence.replace('/',' ')\n",
    "    sentence = sentence.replace('-',' ')\n",
    "    sentence = sentence.lstrip()\n",
    "    return sentence.lower()"
   ]
  },
  {
   "cell_type": "code",
   "execution_count": 149,
   "metadata": {},
   "outputs": [],
   "source": [
    "def convert(sentences):\n",
    "    import re\n",
    "    cleanEmoticon = []\n",
    "    for sentence in sentences:\n",
    "        try:\n",
    "            highpoints = re.compile(u'([\\U00002600-\\U000027BF])|([\\U0001f300-\\U0001f64F])|([\\U0001f680-\\U0001f6FF])')\n",
    "        except re.error:\n",
    "            highpoints = re.compile(u'([\\u2600-\\u27BF])|([\\uD83C][\\uDF00-\\uDFFF])|([\\uD83D][\\uDC00-\\uDE4F])|([\\uD83D][\\uDE80-\\uDEFF])')\n",
    "    \n",
    "        cleanEmoticon.append(highpoints.sub(u'\\u25FD', sentence))\n",
    "    return cleanEmoticon"
   ]
  },
  {
   "cell_type": "code",
   "execution_count": 88,
   "metadata": {},
   "outputs": [],
   "source": [
    "x = []\n",
    "y = []\n",
    "with open(path) as a:\n",
    "    b = csv.reader(a)\n",
    "    for row in b:\n",
    "        x.append(cleaning(row[2]))\n",
    "        y.append(row[3])"
   ]
  },
  {
   "cell_type": "code",
   "execution_count": 89,
   "metadata": {},
   "outputs": [],
   "source": [
    "randomize = np.arange(len(x))\n",
    "np.random.shuffle(randomize)"
   ]
  },
  {
   "cell_type": "code",
   "execution_count": 90,
   "metadata": {},
   "outputs": [],
   "source": [
    "x_train = x[:85]\n",
    "y_train = y[:85]\n",
    "\n",
    "x_test = x[85:]\n",
    "y_test = y[85:]"
   ]
  },
  {
   "cell_type": "code",
   "execution_count": 171,
   "metadata": {},
   "outputs": [],
   "source": [
    "def preprocess(sentences): \n",
    "    factory = StopWordRemoverFactory()\n",
    "    stopwords = factory.get_stop_words()\n",
    "\n",
    "    factory = StopWordRemoverFactory()\n",
    "    stopword = factory.create_stop_word_remover()\n",
    "\n",
    "    result =[]\n",
    "    for sentence in sentences:\n",
    "        result.append(stemmer.stem(stopword.remove(sentence)))\n",
    "    return result"
   ]
  },
  {
   "cell_type": "code",
   "execution_count": 172,
   "metadata": {},
   "outputs": [],
   "source": [
    "# stem_test = ['dia biasanya makan nasi padang', \n",
    "#              'aku menyukainya dengan tulus dan raisa', \n",
    "#              'ku tak kan pernah memilikinya sampai kapanpun', \n",
    "#              'karena dia sudah memilikinya & dimilikinya']\n",
    "\n",
    "x_train = preprocess(x_train)\n",
    "x_test = preprocess(x_test)"
   ]
  },
  {
   "cell_type": "code",
   "execution_count": 173,
   "metadata": {},
   "outputs": [],
   "source": [
    "x_train = convert(x_train)\n",
    "x_test = convert(x_test)"
   ]
  },
  {
   "cell_type": "markdown",
   "metadata": {},
   "source": [
    "### Scikit-Learn Tweaks\n",
    "Reference:\n",
    "https://towardsdatascience.com/machine-learning-nlp-text-classification-using-scikit-learn-python-and-nltk-c52b92a7c73a"
   ]
  },
  {
   "cell_type": "code",
   "execution_count": 174,
   "metadata": {},
   "outputs": [],
   "source": [
    "from sklearn import svm\n",
    "\n",
    "text_clf = Pipeline([('vect', CountVectorizer()),\n",
    "                     ('tfidf', TfidfTransformer()),\n",
    "                     ('clf', svm.SVC(kernel='linear')),\n",
    "])\n",
    "text_clf = text_clf.fit(x_train, y_train)"
   ]
  },
  {
   "cell_type": "code",
   "execution_count": 175,
   "metadata": {},
   "outputs": [],
   "source": [
    "y_pred = text_clf.predict(x_test)"
   ]
  },
  {
   "cell_type": "code",
   "execution_count": 176,
   "metadata": {},
   "outputs": [
    {
     "data": {
      "text/plain": [
       "0.8666666666666667"
      ]
     },
     "execution_count": 176,
     "metadata": {},
     "output_type": "execute_result"
    }
   ],
   "source": [
    "accuracy_score(y_test, y_pred)"
   ]
  },
  {
   "cell_type": "code",
   "execution_count": 178,
   "metadata": {},
   "outputs": [
    {
     "data": {
      "text/plain": [
       "['parah si ceker parah yg pernah d makan ga sesuai advertising banget laper uda nunggu g k pas buka ceker begini yg dateng sedih banget yaa hitam selera makan hilang trs yg lebih parah kuah loh rasa persis sambel bangkok tp versi kuah and asin banget bener kecewa sih n ga makan bener ilfeel ga beli sihhhh cukup tau aja yaa',\n",
       " 'isi ceker nya banyak pedes nya juara ceker nya lembut buat gue bingung gimana makan ceker alas gue mau makan ceker samping diajarin sih sama cowo gue gimana cara makan ceker nya buat minum halau galau nya enak asem asem bawa jeruk nipis nya',\n",
       " 'pas buat tempat meetup sama temen temen because they provide many chairs yang panjang jadi gather around datang sini malam malam jadi sempat bingung cari nyata pas samping pom bensin ruko ruko dekat the majesty apartment makan so so lah cobain kopi sih silly sayang nggak terima debit waktu mau bayar entah rusak gimana so you need to prepare cash kalau sini',\n",
       " '1 lokasi mudah temu krn strategis pas pengkol sesuai nama restonya plang nama yg gede tempat parkir jg luas 2 tempat mkn luas 2 lantai tp lbh nyaman lantai 1 krn taman air indoor buat yg tambah kesan natural 3 servis cepat tanggap krn layan yg banyak pas dtg hrs ditanyain mau duduk mana tiap meja nomor betul kmrn sy dpt meja no 21 samping taman air jd cucok bgt masakan jg dtgnya cepat cm 5 menit nungguinnya 4 rasa masakan standar cenderung kurang enak malah menu yg betul pes nasi tutug oncom enak gurame bakar enak ayam bakar khas pengkol enak karedok kurang enak sayur asem kurang enak bakwan jagung kurang enak sambal dada kurang enak nyata sambal terasi tp manis bgt lalap kurang tarik krn isi cm timun leunca teh tawar hangat refill puas sy ga sempat foto mknnya krn ga terlalu tarik tampil 5 harga standar jg betul sy fotoin menu harga',\n",
       " 'food digembar gembor sesuai ekspektasi turut teman rasa biasa aja pesan miedun kojo teman miedun sakti mandraguna sayap lumayan besar sih empuk dn lembut sosis bakar bakso enak ceker terlalu kecil turut kuah asa asam manis pedas seperti sih nama kuah original well i m not a big fan of kuah manis masakan sup jadi rekomendasi kuah originalnya service layan ramah kurang waiter waitress standby jadi mau pesan cari cari mas dulu waktu tunggu minum atas meja es teh manis 10 menit makan di meja 20 menit ambiance tempat terlalu besar area indoor outdoor mungkin non smoking smoking area kali bilik kamar mandi cuma 1 guna campur tidak khusus untuk wanita dan laki laki pisah dan tidak ada westafel kaca padahal sampai di sini langsung cari kamar mandi harap temu kaca mata kelilip nyata tidak ada akhir saya pakai kamera hp ada yah maaf malah curhat',\n",
       " 'warung upnormal sini cukup gede tempat parkir niat ken nerusin kerja kantor sini bising paraaaaah lagu keras banget padahal udah request minta kecilin gak kecilin sih kaya ngomong ngomong soal makan kok gak banget yaaaaaa so sad sen indomie jumbo mienya gak mateng gitu kaya mie udah dimasukin pas air bom didih jadi mienya gak mateng padahal mie goreng doang looh sepele sen baso goreng 1 porsi isi 8pcs pas dateng ukur gak sama masa gede yang kecil juga yang bentuk gak bulet gak apa apain cuma goreng aja gitu kalo susu segar',\n",
       " 'dulu neng banget makan kesini harga super masuk kantong mahasiswa murah murah enak varian banyak tp entah akhir kesini kok rasa hambar banget sen 2 varian baru yang wagyu sm mozarella eh rasa bland banget tp utk service lumayan waiternya gercep nyediainnya jg gak lama minum standar waktu pernah nyobain dessert yg es duren lumayan lah man abis makan',\n",
       " 'dulu sini sama temen aku abis lembang jalan2 sebenernya gak niat buat makan sini sih cuma ujan yaudah ke sini buat makan neduh gitu aku waktu sen nasi timbel rasa standar sih trus sambelnya manis aku gasuka kalo sambelnya manis t t trus soal harga gak terlalu mahal gak terlalu murah sih yah kalo aku bilang tempat sini kurang bersih gak nyaman banget pokok buat aku trus lantai licin waktu sampe aku hampir peleset gatau yg salah sepatu aku emang lantai yg licin',\n",
       " 'kalau bandung gatau knp bm ceker tempat yg aku tau cuma ceker midun turut ceker sini enak rasa kuah selalu pas harga murah riah kemarin makan sini nyobain ceker rap level pedesnya kalau ga salah kelud which is kayak level 3nya gitu pedes bgt terus salah aku sen porsi jumbo haha kirain ga bakal banyak itu harga 22ribuan itu makan 3 orang kalau makan sini lumayan enak cuma mas mbanya sini kurang gercep hee pesan antar lama iya buat yg bawa kendara mobil ga perlu bingung parkir dmn karna ga jauh situ area parkir umum gitu',\n",
       " 'warung bakso maknyus menu variatif lezat jadi bikin ken balik ke sana harga tenang jangkau alias ramah dompet d',\n",
       " 'tempat favorit toooos kalau ngidam ken makan sushi ya makan juga kalau ada raya aja haha btw aku baru nyobain beberapa sushi ada mall mall bandung jauh baru yang ter da best',\n",
       " 'waktu kesini rame2 sama teman2 kantor hasil biasa aja turut waktu pesan nasi bakso teriyaki bilang gak enak sih gak biasa aja gak tau menu lain harga jangkau cocok anak muda pesan bagi gak suka durian jangan kesini di tempat saji durian bagai macam salah satu benci durian jadi pas kesini siksa karna harus nahan nafas panjang saya sana tapi buat suka durian mungkin patut coba durian sptnya salah satu menu andal',\n",
       " 'letak jl surya sumantri belok jl lemah nendeut rasa minum kopi makan barat nya lumayan ukur cafe kelas',\n",
       " 'item sen healty juice isi pisang jambu oat harga 20rb deskripsi rasa air es sedikit jambu beli sudah engga',\n",
       " 'excited banget dateng kesini karna aku doyan bgt bakso keju bakso boedjangan ada bakso super keju wiiihh langsung datang cabang yg ujungberung hubung yg paling dekat tempat oke nyaman waktu lg gak terlalu rame pesan bakso super keju minum greentea buat bakso keju lumayan enak mungkin next coba yg mozarella nya mi nya bok dikittt bangettt cuman 3 suap aja udah abis porsi yg pelit bgt harga segitu turut foto di ig mi nya ga sedikit nama promosi hiks greentea nya udah enak pas sm selera aku gak terlalu manis gak terlalu pahit overall cukup recomended kok makan sini tp jgn kya akuu yg ber ekspektasi terlalu tinggi',\n",
       " 'so so biasa aja kualitas makannnya tempat rupa tempat strategis dekat pintu keluar rasa makan asa aneh kurang kalau turut dan teman moga bs baik resep makan kualitas oke',\n",
       " 'mau ngopi harga sahabat tp rasa tetap oke trus mau ngemil makan berat harga masuk akal sih masuk list tempat buat ngopi tambah cemilan harga masuk akal',\n",
       " 'kalau mau bawa pulang baik tanya bikin pesan dua kali pertama cabang pahlawan pesan bakso keju yang didapet malah pake urat gak bener nih',\n",
       " 'kemaren dateng pas ultah sama temen mesen crunchy lobster roll sama salmon mentai canape buat sushinya buat makan utama mesen ebi juu sama grilled chicken ramen ultah dapet birthday cake buat sushi salmon mentai canape nya enak rasa gurih si saos mentainya crunchy lobster roll nya enak tekstur crunchy luar leleh dalem prinsip luar crunchy dalem leleh jg ebi juu sumpah enak banget ramennya gede bahkan sampe harus abisin ujung ujung kenyang bego atmosfir tempat enak buat malem komposisi warna teduh cahaya remang service di sini bagus banget waitress nya selalu beri senyum responsif 5 5 would dine again',\n",
       " 'lupa bulan berapa makan dsini yg makan outlet bandung dulu baru yg jakarta jakarta rame banged2 sendiri cinta bakso sedang pacar biasa aja buat bakso boedjangan ga istimewa balik turut bakso boedjangan enak texture bakso yg lembut mpuk banged menu favorit dsana ga adalah nasi bakso telur asin rasa terlalu enak bisa banged ngabisin piring cuma 5 menit lol mesti di coba sih turut saya ini salah satu menu rekomend yg di bakso boedjangan',\n",
       " 'ken banget mie bakso akhir kesini pesan mie yamin asin bp bakso pangsit porsi nyata banyak banget tekstur bakso suka padat gitu mienya kenyal personally lebih suka yg manis yg asin porsi 37ribu pas lah sama banyak yg bikin kaget es jeruk 18ribu wow lagi tambah ppn 10 sangat sahabat buat mahasiswa hahaha',\n",
       " 'super biasa aja nyesel sen 1 porsi nyata gede banget bikin eneg padahal beli tanpa mie rasa biasa aja terus mahal banget oke cuma es teler',\n",
       " 'rasa enak pesan sangat lama mohon baik karna lama tunggu kalo begini terus langgan jd malas makan sini',\n",
       " 'sen makan nya pizza nasi iga bakar minum nya lemon squash kata nasi iga bakar nya enak pas rasa kok daging rada hangus sedikit jadi dominan rasa enak sama gosong kecewa deh pizza nya enak lembut walaupun pizza tipis ttp empuk lemon squash nya lemon nya sedikit bgt asa minum sprite aja nunggu makan nya lumayan lama minum pizza nya cepet tempat makan nya bersih bagus sejuk banget saja toilet nya kurang banyak utk unjung bukan main2 isi tingkat layan nya biasa aja satu mas2 rambut mangkok diemin orang padahal nanya minta order layan nya cenderung sedikit padahal unjung nya bnyk tingkat kualitas layan nya waktu mesan nya',\n",
       " 'mie ayam wajib dikunjungin kl bandung layan ramah banget neng bercandain jangan kesini jumat pasti tutup porsi besar tasty kuah gurih sedep kl makan ngga banyak2 mending 1 2 porsi aja mienya kalo pake isi jadi kaya makan 2 porsi siomay pangsit rebus juara lembut banget sayang kapasitas tempat makan luas parkir ngga padan buat es duren lebih gede biji kuah kurang tasty lebih enak es krim duren gerobak jual depan rujak cakep2 banget buah',\n",
       " 'overall rasa enak sesuai harga lah salmon sini cukup fresh sushi tei sini kaya jd sushi tei fav aku so far soal ambiencenya enak gt tempat cukup luas',\n",
       " 'mampir krn liat menu murah eh nyata menu ga update harga mahal tp porsi sedikit untung sihh sayur asemnya enak lumayan buat gin badan malem hari abis capek jalan2 dr lembang',\n",
       " 'love everything s about akung yaminnya ceker nya bakso nya lain masuk ramah staff nya it s something that brings me back and back again',\n",
       " 'pertama kali coba cabang yg sini nyata cukup luas area libur merah kemarin jadi full bgt sampe waiting list tapiii nyata sini servingnya cukup lama banding cabang minta refill ocha aja 10 15mnt baru dtg diingetin hahaha sad terus bbrp menu lama bgt dtgny sampe jam lebihh menu2 yg udah dtg dluan habisss biasa favorit sy salmon mentai canape suruh tmn cobain tuna mentai nyata enak bgtttt lebih lumer gitu rasany mulut hahaha trs cobain cheesy roll kurang pas sih rasany kalo sushi cheesenya pertama kalinyaaa nyobain sashimi hahaha biasa ga berani nyobain yg mentah tp nyata lucu juga rasany yg salmon emg ga asa apa2 sih cm kenyal2 gitu yg lebih rasa bumbu kecap hahaha overall oke',\n",
       " 'main bandung ajak makan kesini tempat enak nyaman terus makan enak enak ga rugi tempat parkir luas toilet yg penting bersih wangi',\n",
       " 'udah sering banget kesini baru inget pernah revieww hehehe soo here we go aku selalu pesan yamin manis sini ukur 1 porsi plus topping pangsit rebus somay ceker hehehe ohiya tiap kalian beli 1 porsi mie pilih topping2 kalian suka topping tsb bakal sajiin mangkuk besar bikin kalian mau teriak wowowoww memang limpah banget tuh topping semua toppingnya enak enak banget malah 3 topping andal ku sih itu tadiii hahahaha lokasi cukup adab lah yaa toilet banyak mushalla nya cuma parkir nya aja yg agak susahh seriuus kalian bgtbgtbgt coba mie ga ada nyesel nya sama sekali cuuy aku jamin kalian bakal jatuh cinta balik',\n",
       " 'makan fish chip fries ice cappuccino strawberry juice orange juice benar biasa biasa tapi ambience nya bagus fresh air spectacural view makan sebut jadi enak banget',\n",
       " 'enak si turut gue skrg susah bgt cari bakmi kenal yg emang beneran enak yg gue serius ga kecewa sen bakmi yamin sedeng asin manis komplit kuah bener2 ayam bakso pangsit tahu somaynya asli semua porsi banyak halal dan emang enak bgt sangat rekomen sih buat kesini harga memang 50k sih cuman rata rata bakmi kenal emang seginian kurang sih banyak micin abis makan aus',\n",
       " 'niat nyari tempat makan tutup karna lebaran jadi udah makan sini nyata rame banget karna mungkin orang2 pada bingung cari makan mana sy sen rasa baru indomie soto lamongan pake kulit ayam rasa enak sih kaya rasa soto biasa tambah sm kulit ayam kurang crispy sih pernah sen kulit ayam sini karna rame banget jadi lama nunggu makan dateng padahal udah late lunch 14 30 haha tapi ya wajar overall oke',\n",
       " 'ceker midun sen 1 ceker setan rapi level 4 kuah pedes isi biji cabe banyak banget hangat beneran gurih sih 2 ceker lapindo level 5 cenderung pedes manis pedesnya ga asa karna kuah manis banget kaya full kecap gitu ceker banyak banget ga pake nasi aja kenyang lembutt sukaaa 3 minum ramu cinta kaya yoghurt strawberry blanka energy banyak biji selasih pas banget adem abis makan pedes2 harga semua murah banget ga nyesel kesini',\n",
       " 'cekernyaaa pedes enakkkkk tempat kurang gede nyaman harga ga terlalu mahal porsi banyakkk menu nya ga cuma ceker ada lain seperti wings',\n",
       " 'cobain menu baru indomie soto lamongan kulit yah rasa oke lumayan cuma sayang kulit kurang renyah rasa aneh satu pesan indomie upnormal seperti biasa enak tempat sih lumayan seatingnya luas parkir banyak',\n",
       " 'makan sangat biasa aja ga worth it sama harga rasa sama aja kayak makan warung sunda pinggir jalan yg murah riah menu ga tulis info kalo ayam ayam kampung laper udah harap ayam biasa nyata ayam kampung yg notabene minim sekali daging nasi tutug oncom sedih oncom kayak cuma 1 sendok makan 2 centong nasi mending sen nasi biasa sayir asemnya kurang nendang padahal tempat rame banget dikirain bakal cucok kaya tempat rame cuma gara2 deket farmhouse bagai orang sunda kecewa sama rasa mau ngasih rating 1 thumbs up buat waitressnya yg gercep sigap',\n",
       " 'kepo sama bakso boedjangan betul jakarta bom waktu kalo skrg udah jkt hehe pas tau bakso boedjangan penasaran sama rasa karna tampil instagramnya food blogger bagus2 tampil bikin tarik sukses bikin penasaran sama rasa sen bakso keju sama nasi bakso teriyaki rasa hmmm bilang enak banget ngga bilang ngga enak ngga standar rasa baso gimana yah wkwk kalo dibandingin milih makan di sini di mamang baso mangkal sih i prefer mamang baso aja hehehehe boleh lah kalo ken bakso yg aneh2 kayak bakso keju bakso teriyaki boleh diicip kesini',\n",
       " 'i came to the cafe with high expectations because of the hype i ve been seeing on instagram only realizing it was a dissapointment why it took me 30mins to hail the waiter to take my order then i waited another 20 30 minutes to be informed that my order can t be input to the system unless i waited for another hour seriously overhyped might as well go to other restaurants jangan jadi korban instagram guys',\n",
       " 'tempat nya cukup unik punya ciri khas sendiri menu masuk enak meatball baked ricenya walaupun porsi bilang bawah standar kalau lagi makan kenyang appetizernya hampir semua enak jamur tahu cabai garam bikin nagih',\n",
       " 'padahal bakso boedjangan ditebet rawamangun udah lama buka eh malah nyobain jauh bandung tempat bersih luas jejer sama aneka resto cafe pesan bakso boedjangan super mozzarella 20 5 tekstur daging rasa ga terlalu soft ga terlalu kenyal jg pas buat selera kenyal bakso kurang gurih buat kuah well mozzarella sedikit sekali mie yamin healthy green failed banget seriously hambar overcooked mienya putus putus kuah failed hanya bakso kecil enak nasi goreng bakso enak banget gurih isi bakso banyak telur take away buat hotel jus alpukat dancow gak terlalu manis kental pas enak bangettt teh tarik hangat rasa teh susu imbang',\n",
       " 'suka banget pas nyampe sini soal adem view nya jd pas masuk harus beli voucher gt 1 orang minimal 1 voucher dg harga 10k tp voucher buat beli makan so dont worry but aku liat banyak sini cuma buat foto2 doang sih aku pesan batagor ama cireng moslty sini indonesian food batagor nya lumanyan bumbu kacang nya yg bikin jadi plus cireng nya yg garing bisa bikin nambah sama sini coffee shop jd kalo ada yg mau kopi bisa',\n",
       " 'always be my favorite sushi restaurant i d rate 6 5 rasa jauh ga yg ngalahin sushi tei tempat makan sushi udah coba beberapa tempat sushi selalu lagi sushi tei it s pricey sangatttt worth it malah selalu bela bain sampe nyisihin uang makan banyak sushi tei kalo udah sushi bar suka kalap sayang sedikit pilih sushi yg mateng mateng buat ga suka sushi mentah ga terlalu variatif pilih semua bahan fresh poko ga pernah ngecewain sushi tei sumatera turut tempat yg paling enak sih luas sukajadi nyaman cuma lebih crowded banding dg sutei sumatera deket dg fo fo my favorite are chuka idako tuna salad crispy mentai salmon mentai canape spicy haruyaki baru baru aku suka sen saladnya nyata salad is a must jd penetralisir in case kalian enek banyak makan sushi netralisir pake jahe minum sm dessertnya jg sgt pricey jd aku jarang sen lebih baik dipake buat beli menu sushi drpd sen beverages or dessertnya minum cukup hot or cold ocha aja yg bisa refill puas jgn lupa kalo h 7 sampe h 7 ulang tahun kalian bisa dtg kesini dan tunjukkin id card kalian buat dapetin free sushi birthday cake never get enough of sushi tei',\n",
       " 'place was food was average coffee was average strategic place service was parking lot quite limited price was worth it nothing special just ordinary coffee stop by place',\n",
       " 'masuk sini pake kupon 10ribu orang dituker potong makan sih sampe sini jam 9 jam 9 30 lah selesai cari duduk pesen2 makan sampe posting sen dateng 1jam gue udah lemes foto2 blm dateng niat sarap sampe waktu makan siang blm dateng entah kapan harus tunggu makan datang super lama udah gitu ribut suara tukang bangun ditutup2terpal kalo siap buka mah jangan buka dulu kali tadi aja ada rantai jatuh atas untung kena pohon gak kena orang nih kalo ada bintang 0 gue kasi bintang 0 aja m',\n",
       " 'you need to buy the 10k voucher first akan diskon bill kalian lebih baik dtg kesini waktu pagi tidak terlalu crowded foto foto rasa cukup enak tolong tingkat sisi layan we are waiting for almost 1 hour only for chicken cordon bleu bahkan makan datang minta pindah tempat duduk langsung aku bilang makan sampai kok usir daritadi duduk sini bahkan order darisini boleh kok tempat bagus makan enak kalau untuk masalah layan perlu lebih tingkat',\n",
       " 'coba si yellow truck kota lahir kota bandung benar depok outlet banyak bilang kalau depok baik cara lokasi rasa outlet sana kurang malah banyak saranin kalau mau coba enak bandung pas ada sempat bandung langsung niatin buat coba betul waktu nemu daerah pasteur deket kampus maranatha nyata outlet baru benar udah kenyang sih alhasil ken coba ringan ringan buat lunch gue cuma coba spaghetti carbonara rp30 000 rasa tarik sih kuah gurih banget gue kasih skor 3 5 5 menu nah penasaran juga sama kopi nya emang tempat cafe pasti punya rasa tarik kopi gue coba pilih yellow truck signature rp21 819 karena nama signature nya makanya gue coba rasa aneh turut gue sih campur jeruk kopi campur es hmm kecewa rasa gue cuma kasih skor 2 5 5 cara seluruh outletnya tarik rapih comfy ada ruang non smoking smoking area but tempat non ac loh nyata bandung depok sama kok jadi g perlu bandung buat nyoba khusus si yellow truck so overall score versi eric 3 5 food 3 5 service 3 5 place 3 5 5 price 3 5 5',\n",
       " 'layan oke tempat nyaman lumayan banyak table waiting list suka lama jadi laper duluan but overall oke paling suka kalo tempat sushi gin ocha nya gratis bebas refill mau harga sesuai rasa service nya',\n",
       " 'dago bakery di kawasan punclut satu kawasan sama lereng anteng cakrawala sangat ga recommended kesana pas weekend rame banget kayak pasar tadi mau nyantai malah ga enjoy masuk dago bakery beli voucher per orang nya 10ribu makan minum yg sen total harga rang 10ribu voucher tadi karena voucher tadi orang2 malah lebih banyak yg foto2 doang keluar udah cari tempat duduk susah pas udah dapet tempat duduk eh nyari waiter nya susah sampe akhir harus nyari menu sendiri nyamperin waiter nya atas buat order hampir satu jam buat nunggu cangkir cappuccino nunggu main course nya',\n",
       " 'good place with wifi friendly staffs affordable drinks and meal which is good for students the taste tho is so so at least for me but if you re a student who wants to hang out or work together with friends it s a good place recommend will update later until i find one',\n",
       " 'first time makan sini tempat sih lumayan oke di pinggir jalan raya gitu nah gue sen ikan gurame crispy tp nyata ga crispy sm sekali asiiinn bgt kangkung polos kurang enak sih turut gue tampil kurang oke tahu goreng kalo buku menu sih tanda tp turut gue biasa aja kayak emak gue goreng it so standart terus satu ada sambel kyk nya sih lengkap gurame yah lumayan oke lah harga masuk budget lah',\n",
       " 'saung or warung nasi pengkol 1 located in setaibudi street which is very crowded on weekend with local tourist the restaurant is like rest area if you are hungry due to the bad traffic jam from bandung city towards lembang the restaurant is in slope of lembang they also offer good view of crops land and the green the place is very spacious and have many seating both for small or big group unfortunately the place isn t well maintained and looks dirty the worst is the service that you can t easily call the waiters for menu or for help the waiters aren t well dressed they look like still high school students with no proper attribute as waiter then the price for me the price is affordable and reasonable the package menu starts from 30k the taste is like other sundanese restaurant food it is good so far but the sambal is limited in small amount so for people who place sambal as the main ingredient of happiness this place isn t recommended overall this place is the right place for you if you re tired with the traffic and need quick meals the parking lot is spacious but always full with car but the parking staff are very helpful',\n",
       " 'tempat lagi hits banget instagram banyak spot foto lucu2 pas sana nyata ga bagus instagram jadi kalau mau masuk resto wajib beli voucher harga 10rb nnti voucher nya pakai buat beli makan minum turut gw sama aja kayak tiket masuk sih haha lucu masuk resto tiket masuk telah beli voucher masuk dalam ga ada waiters arah tempat duduk jadi pilih tempat duduk tempat yg kosong turut gw chaos jadi semua org rebut buat dapet tempat yg bagus haha bisa atur dg waiting list no meja pesan makan nyata menu bakery nya kayak cake tidak available what judul bakery kan yasudah pesan cemilan aja teman pesan seblak saya sen pisang nugget yah makan sih std aja yah memang tempat ini seperti jual lokasi bagus interior instagramable aja',\n",
       " 'sushi tei turut tempat sushi worth it fresh sushi fusion sushi bandung segi ragam menu rasa mungkin baik banding beberapa tempat sushi ada bandung',\n",
       " 'dtg kesini ber6 tau menu sama skali 2 dr 3 menu yg mau sen abis pdhl dtg jam 10 40 mas pagi bgt cukup sen min 100k bs makan kemah gt maks 2 jam situ harga cukup pricey porsi sedikit utk rasa enak sih utk coba lah',\n",
       " 'menu favorit tiap sushi tei salmon cheese roll ga terlalu suka sashimi jadi aku pilih karena salmon nya di broiled dalem crab stick tamago untuk topping nya salmon keju perfect combination itu fuji roll yg topping nya mayonnaise pedas wajib coba chuka idako alias baby octopus recommend untuk bento nya i would recommend you to try salmon teriyaki don',\n",
       " 'tempat cenderung kecil seatnya sedikit parkir valet spacenya yg kecil makan european food lumayan lah ga sampe bikin nagih ken kesini harga standard cafe di bandung lah',\n",
       " 'bakso mozzarellanya enak keju panjang bgt pas tarik bakso super pedas jg nendang pedesnya ud gitu harga segitu udh ad bihun mienya jg',\n",
       " 'harga atas rata2 bandung ukur ikan besar tangan kerja banyak mas di panggil panggil minta alat makan sama tissue semua ukur makan kecil luar biasa ga recommended karyawan ga mikirin konsumen di komplain tp bisa hubung manager alas keluar supervisor',\n",
       " 'makan mahal rasa kurang enak waktu sen nasi sama ayam goreng ayam nya kecil2 banget mungkin ga pilih restoran kalo udh sampe kesini jadi ga pernah evaluasi utk rasa kualitas pelaayannya jg lama bgt kalo ga samperin mungkin layan nya lupa ga anter2 kita nunggu 1 jam utk masak padahal org yg dateng belakang udah di saji duluan mungkin akan jd pertama akhir kali kesini',\n",
       " 'ayam bakar not bad sii menang view saung2 leseh table adaa cuma kecewa banget banget sen u 55pax makan menu nasi putih lalap ikan goreng ayam bakar kerupuk air putih buah semangka hanya 40 orang makan ada sisa tapi semua udh ngambil nasi pelayanya langsung resin semua makan meja plasmanan first pelayanya bad bgt ga jujur di tanya bener2 cuma diem makan sana ga cuma hbs 200 500rban total bayar habis 1 6jt tp standar layan its no recomend',\n",
       " 'always rame yaa bakso enak sih mienya duhhhhhhhh the best lah ku tak komentar apa poko enak enak lah poko ga salah kl rame krn emg beneran enak langsung coba aja cussss',\n",
       " 'kalo kamu mau makan sushi yg beneran sushi enak fresh cus deh ksni gausa mkir 2x cos dsni bener2 fresh smuanya utk gemar sashimi aku sih gemar sushi n sashimi kalo tempat laen kadang sushi ny cuma banyak nasi ny doang isi ga haha kan males kaliiiiiii harga pricey but worth it bgt dgn kualitas makan minum ny ocha aja biar free refill hihihi',\n",
       " 'makan rasa oke layan sangat buruk nunggu lama karedok pes duluan malah ga catat serving time buruk cara cicil ga jelas datang bahkan keluarga pesan jus tak kunjung datang not recommend for family dinner or eating out',\n",
       " 'super yum love the food soup and another meal the price is good tho with nice scenery love how simplicity with ethnic vibes live the little pond too',\n",
       " 'lokasi mudah cari di waze mampir kesini niat buat ngemil besar karna betul abis makan visit with bestfriends tempat biasa aja ga cozy buat lama2 makananya enak waffle nya buat calamari nya keras tepung pelayananya cepet rate for ambiance 3 5 taste 3 5 price standart',\n",
       " 'resto cm lengkap wisata poto2 syantik lodge maribaya padhl datang kesini hari sabtu alias weekend tp restonya ga rame kbykn yg dtg kesini tuju cm utk poto2 aja betul cm eyke yg narsis buat poto2 bagai spot2 si suami keluarga cm nggu aja mnm manja resto hanya minum suami yg aku jepret mba kasir rada jutek iihhh dgn mas2 layan yg anter minum jd ga minus2 yah',\n",
       " 'kecewa banget bagai macam menu burger hot dog pizza kata habis trus waiternya konfirmasi bukan abis sih sebenernya kata bom keluar kalo baru banget jam buka okelahh gue dateng kesana jam 7 malem sana cukup rame kok menu pizza burger hot dog ga keluar tuh karna apa parah sih',\n",
       " 'aga kecewa sih jadi awal abis bukber selesai bukber gua sama 6 org temen nongki tuh ngopdul sen minum 7 ga sen makan masih kenyang 20 menit ngobrol2 kan bosen akhir maen kartu tuh maen poker lah cangkulan lah tapi catet kaga maen kartu pake duit cuman maen biasa doang mulai main layan 2 kali dateng salah kirim makan setelh beberapa menit layan nanya sen udah semua padahal udah 30 menit nongki sen minum pas awal dateng doang akhir satu jam maen lagi manager kaya ngelarang main kartu ga awal coba ngelarang yaudah gua sama temen2 ga maen lagi gua sama temen2 lanjut ngobrol2 sama abisin kopi eeeh lagi layan mas gelas yg kosong nya ambil gilaaaa ga tatakrama bgt kan yaudah akhir kita udah bad mood banget akhir cabs kecewaaaa abis gua sama temen2',\n",
       " 'kalau sini siap siap aja makan lama yang masak tante sendiri sama asisten rumah tangga cheap and very cold beer low budget customized mexican foods dulu suka ramai sama expat jadi gak asa bandung overall tempat cukup ngangenin',\n",
       " 'sen kopi kental manis 2 nunggu 45 menit datang begitu datang pesan salah kasih coffee late sama kopi kental manis pas nyobain rasa biasa banget',\n",
       " 'tahun lalu waktu eduplex baru buka kesini pas bandung turut oke meski harga golong mahal porsi sedikit favorit mashed potato cream spinach paru goreng akhir tiap bandung sempat makan sini pas kali rasa oke pas tiga dst kurang oke waktu positive thinking maleman jadi makan gak seger awal tahun 2018 resmi tinggal bandung order by g f d minggu lalu spaghetti aglio olio mashed potato cream spinach kira2 abis isya lah pas sana driver g j knya nelfon minta ngomong langsung sama layan layan bilang kalau malam mungkin cream spinachnya gak bagus rasa asam buat siang gimana kalau ganti capcai bilang oke gapapa ganti aja bayam sama capcai siip saat makan terima kaget dong nyata tetep cream spinach memang betul udah basi rasa gak enak jadi gak saya makan bayam mashed potatonya kurang oke bikin eneg lalu spaghetti aglio olio spaghetti diminyakin kasi bon cabe omg saya gagal makan malam',\n",
       " 'sengaja datang eduplex karena ken tau rasa ajar ngerjain tugas sini suasana sih cukup tenan makan nya murah murah nasi goreng rp 13 000an peach tea dilmah rp 20 000anbeli ice americano langsung campur sama gula americano gaya mana hemm rasa makan minum gitu gitu aja kalau mau makan enak cari cafe resto bagus layan nya duh cmn geleng geleng kepala meja kotor belum lap padahal waitersnya gak sibuk sibuk kasir tiap beli selalu kurang gw 3x transaksi tiga tiga kurang jd udah gw ikhlasin aja pertama dan akhir nampaknya eduplex cafe',\n",
       " 'this place has nice ambience to do some works or studying but the foods were disappointing i ordered mie goreng rp 10 000 and added shrimp as topping for additional rp 12 000 so i expected a pretty much shrimp added to my mie goreng but what i get was mie goreng with 2 pcs of very super small shrimps when i asked the chef he said that the shrimps were already cut in very small pieces and mixed with the mie goreng but i didn t see any shrimps except the 2 very super small shrimps what a disappointment so if you need a place to study or doing some works with your friends this is the place but do not ever order the food cause it s not worth it',\n",
       " '2x dateng kesini 2x kecewa yg pertama kali wifi lama banget connectnya pdhl suasana enak bgt buat ajar ngerjain kerja tp justru wifi yg essential malah poor banget makan dingin harga ga worth it kualitas makan itu dateng yg 2x lebih parah wifi tetep lot colok ga semua fungsi waitress yg rangkap sbg kasir yg super jutek cm bilang situ emg mati listrik ga bantuin nyari tempat yg listrik available dar saran mana cuma nganter makan selesai biaya service tp bentuk servicenya bener bener ga kasir bilang susul tp kemudian lupa pura pura lupa sampe tagih tagih laba krn ga uang pas buat udah jam 4 sore ga uang pas seriously emg pagi bayar pake apa strawberry milkshake tp ga manis nasi goreng dingin porsi tengah porsi orang normal plus tetep ga rasa fyi wifi sini 1 username buat 1 device jadi kalo dateng rame rame masing masing mau nikmat wifi 1 orang 1 struk tax 10 biaya service entah berapa jelas sesuai servicenya maklum aja ngeluarin 75 000 itung itung buat numpang duduk sofa yg empuk sorry to say it s the worst cafe i ve ever visited',\n",
       " 'tempat luar lihat lucu dalam biasa aja mending ala carte lansung milih tempat buffet nya aku kira lebih murah nyata jatoh jatohnya malah lebih mahal waktu malam sih banyak banget anak kuliah ngerjain tugas sana tadi mau ngerjain tugas mungkin banyak pakai internet koneksi wifinya lot banget cream spinachnya kurang recommended',\n",
       " 'baru sekali betul tempat butuh tempat nyaman koneksi internet oke nyata kecewa kalau soal tempat sih ga masalah nyaman sekali harap koneksi internet wi fi kenceng siap kecewa karena wi fi nya lambat banget itu wi fi sini batas cuma 4 jam kalau lewat 4 jam beli makan minum username untuk login wifi dari bon makan pes bayar jadi kalau dateng 2 orang dua mau pakai internet bikin 2 bon beda',\n",
       " 'wifi kenceng tempat nyaman sofa semua cuma sayang suka penuh jadi waiting list buat nugas nongkrong cocok banget harga standar lah ga terlalu mahal',\n",
       " 'belanja kartika sari mau coba ice cream fikir awal gelato bukan sama sekali saya beli rasa tiramisu karna kata pramusaji best seller memang ice cream yang saya makan sudah stock akhir hampir habis tempat platenya rasa ice cream lama aroma langu mulut ntah apa ice cream lama memang semua rasa ice creamnya ini ukur 1 scoop 22 5k i won t come back',\n",
       " 'sempat suka kafe turut hidang cukup unik senang sekali tambah keju segala menu proporsi lebay saya pesan kala adalah roti bakar dengan tabur keju buat komentar wah sih keju pakai roti bukan roti pakai keju soal rasa sebenernya standar aja semua memang cafe cukup banyak pilih ragam indomi goreng rebus pelbagai variasi pisang goreng martabak roti bakar manis asin ragam jajan harga relatif murah cocok kantong mahasiswa hingga ini rasa menu itu saja cukup bosan saya lama lama itu higienisitas tempat makan perlu perhati karena wc nya cukup kotor juga pernah saya sedang makan muncul kecoa balik meja cukup disgusting',\n",
       " 'tempat luas banget dan di luar selalu penuh kalo sini service dan rasa makan lumayan lah keju ngga tanggung2 banyak banget kornet banyak ampe enek banget kalo makan indomie telor kornet keju',\n",
       " 'gue kesini sama my bf sepi banget parahsihh hari jumat sore gitu gue pilih rooftop nya gue cuma sen cumi goreng tepung sm es jeruk cumi nya benerbener keras es jeruk tuh sirup coiii bayang kan manis fake gitu',\n",
       " 'standartnya cafe siiih barusan aja ogut temen2 ngadain acara bukber harga kurang pas rasa yg saji mahal soal rasa standartnya cafe kurang enak lebih mahal layan kurang maximal lebih ramah lg hadap customer bersih harus lebih jaga wajar sih yah klo kelas cafe suka lama layan tp jgn sering diwajarin jg jd saran ogut klo sen kalian lama kasih jgn sungkan tanyain lg layan dr mau bukber sampe saur ga anter sen lo jadi tempat emg rekomen ngopi2 chit chat bareng tmn2 aja karna design tempat yg lumayan instagrammable ga kalian mau nyari makan layan nomer wahid hehe sorry klo reviewnya kurang senang',\n",
       " 'interior lihat cafe lama yg kurang urus mesen coffee latte kasih nescafe sachetan mesin kopi cuma buat pajang aja pegawai lamban ngambil paper cup utk take away aja lama banget i will never be back here ever again']"
      ]
     },
     "execution_count": 178,
     "metadata": {},
     "output_type": "execute_result"
    }
   ],
   "source": [
    "x_train"
   ]
  },
  {
   "cell_type": "code",
   "execution_count": 155,
   "metadata": {},
   "outputs": [
    {
     "data": {
      "text/plain": [
       "['0', '0', '0', '0', '0', '1', '0', '0', '0', '0', '1', '0', '0', '0', '0']"
      ]
     },
     "execution_count": 155,
     "metadata": {},
     "output_type": "execute_result"
    }
   ],
   "source": [
    "y_test"
   ]
  }
 ],
 "metadata": {
  "kernelspec": {
   "display_name": "Python 3",
   "language": "python",
   "name": "python3"
  },
  "language_info": {
   "codemirror_mode": {
    "name": "ipython",
    "version": 3
   },
   "file_extension": ".py",
   "mimetype": "text/x-python",
   "name": "python",
   "nbconvert_exporter": "python",
   "pygments_lexer": "ipython3",
   "version": "3.6.5"
  }
 },
 "nbformat": 4,
 "nbformat_minor": 2
}
