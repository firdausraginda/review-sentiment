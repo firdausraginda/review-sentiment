{
 "cells": [
  {
   "cell_type": "code",
   "execution_count": 24,
   "metadata": {},
   "outputs": [],
   "source": [
    "path = './zomato.csv'"
   ]
  },
  {
   "cell_type": "code",
   "execution_count": 25,
   "metadata": {},
   "outputs": [],
   "source": [
    "import csv\n",
    "import os\n",
    "import glob\n",
    "import numpy as np\n",
    "import math\n",
    "#scikit learn\n",
    "from sklearn.pipeline import Pipeline\n",
    "from sklearn.metrics import accuracy_score\n",
    "from sklearn.model_selection import GridSearchCV\n",
    "from sklearn.feature_extraction.text import CountVectorizer\n",
    "from sklearn.feature_extraction.text import TfidfTransformer\n",
    "\n",
    "#stemmer\n",
    "from Sastrawi.Stemmer.StemmerFactory import StemmerFactory\n",
    "from Sastrawi.StopWordRemover.StopWordRemoverFactory import StopWordRemoverFactory"
   ]
  },
  {
   "cell_type": "code",
   "execution_count": 26,
   "metadata": {},
   "outputs": [],
   "source": [
    "def cleaning(sentence):\n",
    "    sentence = sentence.replace('\\ufeff','')\n",
    "    sentence = sentence.replace('\\n',' ')\n",
    "    sentence = sentence.replace('\\r',' ')\n",
    "    sentence = sentence.replace('\\n\\n',' ')\n",
    "    sentence = sentence.replace('\\r\\r',' ')\n",
    "    sentence = sentence.replace('.',' ')\n",
    "    sentence = sentence.replace(',',' ')\n",
    "    sentence = sentence.replace('\"',' ')\n",
    "    sentence = sentence.replace('!',' ')\n",
    "    sentence = sentence.replace('?',' ')\n",
    "    sentence = sentence.replace('/',' ')\n",
    "    sentence = sentence.replace('-',' ')\n",
    "    sentence = sentence.lstrip()\n",
    "    return sentence.lower()"
   ]
  },
  {
   "cell_type": "code",
   "execution_count": 27,
   "metadata": {},
   "outputs": [],
   "source": [
    "def convert(sentences):\n",
    "    import re\n",
    "    cleanEmoticon = []\n",
    "    for sentence in sentences:\n",
    "        try:\n",
    "            highpoints = re.compile(u'([\\U00002600-\\U000027BF])|([\\U0001f300-\\U0001f64F])|([\\U0001f680-\\U0001f6FF])')\n",
    "        except re.error:\n",
    "            highpoints = re.compile(u'([\\u2600-\\u27BF])|([\\uD83C][\\uDF00-\\uDFFF])|([\\uD83D][\\uDC00-\\uDE4F])|([\\uD83D][\\uDE80-\\uDEFF])')\n",
    "    \n",
    "        cleanEmoticon.append(highpoints.sub(u'\\u25FD', sentence))\n",
    "    return cleanEmoticon"
   ]
  },
  {
   "cell_type": "code",
   "execution_count": 5,
   "metadata": {},
   "outputs": [],
   "source": [
    "x = []\n",
    "y = []\n",
    "with open(path) as a:\n",
    "    b = csv.reader(a)\n",
    "    for row in b:\n",
    "        x.append(cleaning(row[2]))\n",
    "        y.append(row[3])"
   ]
  },
  {
   "cell_type": "code",
   "execution_count": 6,
   "metadata": {},
   "outputs": [],
   "source": [
    "randomize = np.arange(len(x))\n",
    "np.random.shuffle(randomize)"
   ]
  },
  {
   "cell_type": "code",
   "execution_count": 7,
   "metadata": {},
   "outputs": [],
   "source": [
    "x_train = x[:85]\n",
    "y_train = y[:85]\n",
    "\n",
    "x_test = x[85:]\n",
    "y_test = y[85:]"
   ]
  },
  {
   "cell_type": "code",
   "execution_count": 10,
   "metadata": {},
   "outputs": [],
   "source": [
    "def preprocess(sentences): \n",
    "#     factory = StopWordRemoverFactory()\n",
    "#     stopwords = factory.get_stop_words()\n",
    "    factory = StemmerFactory()\n",
    "    stemmer = factory.create_stemmer()\n",
    "    \n",
    "\n",
    "    factory = StopWordRemoverFactory()\n",
    "    stopword = factory.create_stop_word_remover()\n",
    "\n",
    "    result =[]\n",
    "    for sentence in sentences:\n",
    "        result.append(stemmer.stem(stopword.remove(sentence)))\n",
    "    return result"
   ]
  },
  {
   "cell_type": "code",
   "execution_count": 11,
   "metadata": {},
   "outputs": [],
   "source": [
    "# stem_test = ['dia biasanya makan nasi padang', \n",
    "#              'aku menyukainya dengan tulus dan raisa', \n",
    "#              'ku tak kan pernah memilikinya sampai kapanpun', \n",
    "#              'karena dia sudah memilikinya & dimilikinya']\n",
    "\n",
    "x_train = preprocess(x_train)\n",
    "x_test = preprocess(x_test)"
   ]
  },
  {
   "cell_type": "code",
   "execution_count": 173,
   "metadata": {},
   "outputs": [],
   "source": [
    "x_train = convert(x_train)\n",
    "x_test = convert(x_test)"
   ]
  },
  {
   "cell_type": "markdown",
   "metadata": {},
   "source": [
    "### Scikit-Learn Tweaks\n",
    "Reference:\n",
    "https://towardsdatascience.com/machine-learning-nlp-text-classification-using-scikit-learn-python-and-nltk-c52b92a7c73a"
   ]
  },
  {
   "cell_type": "code",
   "execution_count": 28,
   "metadata": {},
   "outputs": [],
   "source": [
    "from sklearn import svm\n",
    "\n",
    "text_clf = Pipeline([('vect', CountVectorizer()),\n",
    "                     ('tfidf', TfidfTransformer()),\n",
    "                     ('clf', svm.SVC(kernel='linear')),\n",
    "])\n",
    "text_clf = text_clf.fit(x_train, y_train)"
   ]
  },
  {
   "cell_type": "code",
   "execution_count": 21,
   "metadata": {},
   "outputs": [],
   "source": [
    "y_pred = text_clf.predict(x_test)"
   ]
  },
  {
   "cell_type": "code",
   "execution_count": 22,
   "metadata": {},
   "outputs": [
    {
     "data": {
      "text/plain": [
       "0.7333333333333333"
      ]
     },
     "execution_count": 22,
     "metadata": {},
     "output_type": "execute_result"
    }
   ],
   "source": [
    "accuracy_score(y_test, y_pred)"
   ]
  },
  {
   "cell_type": "code",
   "execution_count": null,
   "metadata": {},
   "outputs": [],
   "source": []
  }
 ],
 "metadata": {
  "kernelspec": {
   "display_name": "Python 3",
   "language": "python",
   "name": "python3"
  },
  "language_info": {
   "codemirror_mode": {
    "name": "ipython",
    "version": 3
   },
   "file_extension": ".py",
   "mimetype": "text/x-python",
   "name": "python",
   "nbconvert_exporter": "python",
   "pygments_lexer": "ipython3",
   "version": "3.6.5"
  }
 },
 "nbformat": 4,
 "nbformat_minor": 2
}
